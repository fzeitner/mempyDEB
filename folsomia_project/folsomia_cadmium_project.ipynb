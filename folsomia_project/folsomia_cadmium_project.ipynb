{
 "cells": [
  {
   "cell_type": "markdown",
   "metadata": {},
   "source": [
    "# Project 4: Cd-Aufnahme über die Nahrung bei Folsomia"
   ]
  },
  {
   "cell_type": "code",
   "execution_count": 3,
   "metadata": {},
   "outputs": [],
   "source": [
    "import numpy as np\n",
    "import matplotlib.pyplot as plt\n",
    "import seaborn as sns\n",
    "pal = sns.color_palette()\n",
    "from scipy import stats\n",
    "import pandas as pd\n",
    "from copy import deepcopy\n",
    "import pprint\n",
    "pp = pprint.PrettyPrinter(indent=2)\n",
    "import os\n",
    "import pyarrow\n",
    "\n",
    "current_dir = os.path.dirname(os.path.abspath(''))\n",
    "project_directory = os.path.dirname(current_dir)"
   ]
  },
  {
   "cell_type": "code",
   "execution_count": 4,
   "metadata": {},
   "outputs": [],
   "source": [
    "from mempyDEB.DEBODE.simulators import *\n",
    "from mempyDEB.DEBODE.defaultparams import *"
   ]
  }
 ],
 "metadata": {
  "kernelspec": {
   "display_name": "mempydeb_project",
   "language": "python",
   "name": "python3"
  },
  "language_info": {
   "codemirror_mode": {
    "name": "ipython",
    "version": 3
   },
   "file_extension": ".py",
   "mimetype": "text/x-python",
   "name": "python",
   "nbconvert_exporter": "python",
   "pygments_lexer": "ipython3",
   "version": "3.11.11"
  }
 },
 "nbformat": 4,
 "nbformat_minor": 2
}
